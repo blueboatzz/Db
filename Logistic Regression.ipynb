{
 "cells": [
  {
   "cell_type": "code",
   "execution_count": 6,
   "id": "c7ef0d35",
   "metadata": {},
   "outputs": [
    {
     "name": "stdout",
     "output_type": "stream",
     "text": [
      "X_train head:\n",
      "[[ 0.90832902  0.91569367  0.44912368  0.52222619  0.3736349   0.37852648\n",
      "   0.67740401  1.69955804]\n",
      " [ 0.03644676 -0.75182191 -0.47230103  0.14814855 -0.69965674 -0.50667229\n",
      "  -0.07049698 -0.96569189]\n",
      " [-1.12606292  1.38763205  1.06340683  0.77161128  5.09271083  2.54094063\n",
      "  -0.11855487 -0.88240283]\n",
      " [-0.8354355  -0.37427121 -0.67706208  0.02345601  0.45029859 -0.88604319\n",
      "   1.10091422 -0.88240283]\n",
      " [ 1.19895644 -0.02818307 -3.54371676 -1.28581572 -0.69965674 -0.27904975\n",
      "  -0.85143778  0.36693308]]\n",
      "X_test head:\n",
      "[[-0.8354355   2.45735903  0.34674316  1.39507401 -0.69965674  1.35224513\n",
      "   2.78594417 -0.96569189]\n",
      " [-0.54480808 -0.43719633  0.24436264  0.58457246  0.15216202  0.17619533\n",
      "  -0.1876381  -0.88240283]\n",
      " [ 0.03644676 -1.41253563 -0.36992051 -1.28581572 -0.69965674  0.22677812\n",
      "  -0.22668514 -0.71582471]\n",
      " [ 0.32707418  1.4190946   0.14198211 -0.10123654  0.79102609 -0.81016901\n",
      "   0.36202408  1.44969086]\n",
      " [-1.12606292 -0.3113461  -0.21634972 -1.28581572 -0.69965674 -0.96191737\n",
      "   0.58128822 -0.21609035]]\n",
      "Shape of X_train: (614, 8)\n",
      "Shape of X_test: (154, 8)\n"
     ]
    }
   ],
   "source": [
    "import pandas as pd\n",
    "from sklearn.model_selection import train_test_split\n",
    "from sklearn.preprocessing import StandardScaler\n",
    "\n",
    "# Assuming X and y are already defined\n",
    "X_train, X_test, y_train, y_test = train_test_split(X, y, test_size=0.2, random_state=0)\n",
    "\n",
    "# Standardize features\n",
    "scaler = StandardScaler()\n",
    "X_train_scaled = scaler.fit_transform(X_train)\n",
    "X_test_scaled = scaler.transform(X_test)\n",
    "\n",
    "# Display scaled features\n",
    "print(\"X_train head:\")\n",
    "print(X_train_scaled[:5])\n",
    "print(\"X_test head:\")\n",
    "print(X_test_scaled[:5])\n",
    "print(\"Shape of X_train:\", X_train_scaled.shape)\n",
    "print(\"Shape of X_test:\", X_test_scaled.shape)\n"
   ]
  },
  {
   "cell_type": "code",
   "execution_count": 7,
   "id": "3f8484da",
   "metadata": {},
   "outputs": [
    {
     "name": "stdout",
     "output_type": "stream",
     "text": [
      "Training Accuracy: 0.7719869706840391\n",
      "Test Accuracy: 0.8246753246753247\n",
      "Confusion Matrix:\n",
      "[[98  9]\n",
      " [18 29]]\n",
      "Classification Report:\n",
      "              precision    recall  f1-score   support\n",
      "\n",
      "           0       0.84      0.92      0.88       107\n",
      "           1       0.76      0.62      0.68        47\n",
      "\n",
      "    accuracy                           0.82       154\n",
      "   macro avg       0.80      0.77      0.78       154\n",
      "weighted avg       0.82      0.82      0.82       154\n",
      "\n"
     ]
    },
    {
     "name": "stderr",
     "output_type": "stream",
     "text": [
      "c:\\Users\\HP\\AppData\\Local\\Programs\\Python\\Python311\\Lib\\site-packages\\sklearn\\linear_model\\_logistic.py:469: ConvergenceWarning: lbfgs failed to converge (status=1):\n",
      "STOP: TOTAL NO. of ITERATIONS REACHED LIMIT.\n",
      "\n",
      "Increase the number of iterations (max_iter) or scale the data as shown in:\n",
      "    https://scikit-learn.org/stable/modules/preprocessing.html\n",
      "Please also refer to the documentation for alternative solver options:\n",
      "    https://scikit-learn.org/stable/modules/linear_model.html#logistic-regression\n",
      "  n_iter_i = _check_optimize_result(\n"
     ]
    }
   ],
   "source": [
    "from sklearn.linear_model import LogisticRegression\n",
    "from sklearn.metrics import accuracy_score, confusion_matrix, classification_report\n",
    "\n",
    "# Initialize and train the logistic regression model\n",
    "log_reg = LogisticRegression()\n",
    "log_reg.fit(X_train, y_train)\n",
    "\n",
    "# Predict on the test set\n",
    "y_pred = log_reg.predict(X_test)\n",
    "\n",
    "# Calculate accuracy on the training set\n",
    "train_accuracy = accuracy_score(y_train, log_reg.predict(X_train))\n",
    "\n",
    "# Calculate accuracy on the test set\n",
    "test_accuracy = accuracy_score(y_test, y_pred)\n",
    "\n",
    "# Confusion matrix\n",
    "conf_matrix = confusion_matrix(y_test, y_pred)\n",
    "\n",
    "# Classification report\n",
    "class_report = classification_report(y_test, y_pred)\n",
    "\n",
    "print(\"Training Accuracy:\", train_accuracy)\n",
    "print(\"Test Accuracy:\", test_accuracy)\n",
    "print(\"Confusion Matrix:\")\n",
    "print(conf_matrix)\n",
    "print(\"Classification Report:\")\n",
    "print(class_report)\n"
   ]
  },
  {
   "cell_type": "code",
   "execution_count": 9,
   "id": "16e18421",
   "metadata": {},
   "outputs": [
    {
     "data": {
      "text/plain": [
       "['predictions.pkl']"
      ]
     },
     "execution_count": 9,
     "metadata": {},
     "output_type": "execute_result"
    }
   ],
   "source": [
    "import joblib\n",
    "\n",
    "# Save the trained logistic regression model to a PKL file\n",
    "joblib.dump(model, 'logistic_regression_model.pkl')\n",
    "\n",
    "# Save the predictions to a PKL file\n",
    "joblib.dump(y_pred, 'predictions.pkl')\n"
   ]
  }
 ],
 "metadata": {
  "kernelspec": {
   "display_name": "Python 3 (ipykernel)",
   "language": "python",
   "name": "python3"
  },
  "language_info": {
   "codemirror_mode": {
    "name": "ipython",
    "version": 3
   },
   "file_extension": ".py",
   "mimetype": "text/x-python",
   "name": "python",
   "nbconvert_exporter": "python",
   "pygments_lexer": "ipython3",
   "version": "3.11.2"
  }
 },
 "nbformat": 4,
 "nbformat_minor": 5
}
